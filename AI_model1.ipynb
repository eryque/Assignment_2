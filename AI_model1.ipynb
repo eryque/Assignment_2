{
  "nbformat": 4,
  "nbformat_minor": 0,
  "metadata": {
    "colab": {
      "name": "model1.ipynb",
      "provenance": [],
      "authorship_tag": "ABX9TyPRJGDWn6zQv9CJVQXFd0XX",
      "include_colab_link": true
    },
    "kernelspec": {
      "name": "python3",
      "display_name": "Python 3"
    }
  },
  "cells": [
    {
      "cell_type": "markdown",
      "metadata": {
        "id": "view-in-github",
        "colab_type": "text"
      },
      "source": [
        "<a href=\"https://colab.research.google.com/github/eryque/Assignment_2/blob/master/AI_model1.ipynb\" target=\"_parent\"><img src=\"https://colab.research.google.com/assets/colab-badge.svg\" alt=\"Open In Colab\"/></a>"
      ]
    },
    {
      "cell_type": "code",
      "metadata": {
        "colab": {
          "base_uri": "https://localhost:8080/"
        },
        "id": "HkMC1gxUG0P8",
        "outputId": "43ac0c2e-d8ea-4ad3-f6bc-18b3d70f4977"
      },
      "source": [
        "import tensorflow as tf\r\n",
        "tf.compat.v1.disable_eager_execution()\r\n",
        "\r\n",
        "x1 = tf.constant([1,2,3,4])\r\n",
        "x2 = tf.constant([5,6,7,8])\r\n",
        "\r\n",
        "result = tf.multiply(x1,x2)\r\n",
        "\r\n",
        "with tf.compat.v1.Session() as sess:\r\n",
        "  output = sess.run(result)\r\n",
        "  print(output)\r\n",
        "\r\n"
      ],
      "execution_count": 19,
      "outputs": [
        {
          "output_type": "stream",
          "text": [
            "[ 5 12 21 32]\n"
          ],
          "name": "stdout"
        }
      ]
    }
  ]
}